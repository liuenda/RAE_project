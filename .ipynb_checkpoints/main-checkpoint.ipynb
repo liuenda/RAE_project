{
 "cells": [
  {
   "cell_type": "code",
   "execution_count": 2,
   "metadata": {
    "collapsed": false
   },
   "outputs": [],
   "source": [
    "# to see our plots\n",
    "# %pylab inline\n",
    "%matplotlib inline\n",
    "import bt\n",
    "import numpy as np"
   ]
  },
  {
   "cell_type": "code",
   "execution_count": 3,
   "metadata": {
    "collapsed": false
   },
   "outputs": [
    {
     "name": "stdout",
     "output_type": "stream",
     "text": [
      "                   spy        agg\n",
      "Date                             \n",
      "2010-01-11  100.518888  86.193072\n",
      "2010-01-12   99.581425  86.742281\n",
      "2010-01-13  100.422513  86.376144\n",
      "2010-01-14  100.694113  86.600819\n",
      "2010-01-15   99.563899  86.767244\n",
      "2010-01-19  100.808008  86.625782\n",
      "2010-01-20   99.782932  86.850463\n",
      "2010-01-21   97.864196  86.875426\n",
      "2010-01-22   95.682624  86.925353\n",
      "2010-01-25   96.173257  86.917030\n",
      "3344\n"
     ]
    }
   ],
   "source": [
    "# fetch some data\n",
    "data = bt.get('spy,agg', start='2010-01-10')\n",
    "print data.head(10)\n",
    "print data.size"
   ]
  },
  {
   "cell_type": "code",
   "execution_count": 5,
   "metadata": {
    "collapsed": false
   },
   "outputs": [
    {
     "name": "stdout",
     "output_type": "stream",
     "text": [
      "<class 'bt.core.Strategy'>\n"
     ]
    }
   ],
   "source": [
    "# create the strategy\n",
    "s = bt.Strategy('s1', [bt.algos.RunMonthly(),\n",
    "                       bt.algos.SelectAll(),\n",
    "                       bt.algos.WeighEqually(),\n",
    "                       bt.algos.Rebalance()])\n",
    "print type(s)"
   ]
  },
  {
   "cell_type": "code",
   "execution_count": 6,
   "metadata": {
    "collapsed": false
   },
   "outputs": [
    {
     "name": "stdout",
     "output_type": "stream",
     "text": [
      "s1\n",
      "0%                          100%\n",
      "[##############################] | ETA: 00:00:00\n",
      "Total time elapsed: 00:00:00\n",
      "<class 'bt.backtest.Backtest'>\n",
      "<class 'bt.backtest.Result'>\n"
     ]
    }
   ],
   "source": [
    "# create a backtest and run it\n",
    "test = bt.Backtest(s, data)\n",
    "res = bt.run(test)\n",
    "print type(test)\n",
    "print type(res)"
   ]
  },
  {
   "cell_type": "code",
   "execution_count": 6,
   "metadata": {
    "collapsed": false,
    "scrolled": true
   },
   "outputs": [
    {
     "data": {
      "image/png": "[encoded data removed]",
      "text/plain": [
       "<matplotlib.figure.Figure at 0x7f796714b950>"
      ]
     },
     "metadata": {},
     "output_type": "display_data"
    }
   ],
   "source": [
    "# first let's see an equity curve\n",
    "# res.plot()\n",
    "type(res)\n",
    "res.plot()"
   ]
  },
  {
   "cell_type": "code",
   "execution_count": 11,
   "metadata": {
    "collapsed": false
   },
   "outputs": [
    {
     "name": "stderr",
     "output_type": "stream",
     "text": [
      "/home/liuenda/.pyenv/versions/anaconda2-4.1.0/lib/python2.7/site-packages/matplotlib/__init__.py:1350: UserWarning:  This call to matplotlib.use() has no effect\n",
      "because the backend has already been chosen;\n",
      "matplotlib.use() must be called *before* pylab, matplotlib.pyplot,\n",
      "or matplotlib.backends is imported for the first time.\n",
      "\n",
      "  warnings.warn(_use_error_msg)\n"
     ]
    }
   ],
   "source": []
  }
 ],
 "metadata": {
  "kernelspec": {
   "display_name": "k_means",
   "language": "python",
   "name": "ana2"
  },
  "language_info": {
   "codemirror_mode": {
    "name": "ipython",
    "version": 2
   },
   "file_extension": ".py",
   "mimetype": "text/x-python",
   "name": "python",
   "nbconvert_exporter": "python",
   "pygments_lexer": "ipython2",
   "version": "2.7.11"
  }
 },
 "nbformat": 4,
 "nbformat_minor": 0
}
