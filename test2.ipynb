{
 "cells": [
  {
   "cell_type": "code",
   "execution_count": 9,
   "metadata": {
    "collapsed": false
   },
   "outputs": [],
   "source": [
    "import pybacktest  # obviously, you should install pybacktest before importing it\n",
    "import pandas as pd\n",
    "import pandas\n",
    "%matplotlib inline"
   ]
  },
  {
   "cell_type": "code",
   "execution_count": 10,
   "metadata": {
    "collapsed": false
   },
   "outputs": [
    {
     "data": {
      "text/html": [
       "<div>\n",
       "<table border=\"1\" class=\"dataframe\">\n",
       "  <thead>\n",
       "    <tr style=\"text-align: right;\">\n",
       "      <th></th>\n",
       "      <th>O</th>\n",
       "      <th>H</th>\n",
       "      <th>L</th>\n",
       "      <th>C</th>\n",
       "      <th>V</th>\n",
       "      <th>AC</th>\n",
       "    </tr>\n",
       "    <tr>\n",
       "      <th>Date</th>\n",
       "      <th></th>\n",
       "      <th></th>\n",
       "      <th></th>\n",
       "      <th></th>\n",
       "      <th></th>\n",
       "      <th></th>\n",
       "    </tr>\n",
       "  </thead>\n",
       "  <tbody>\n",
       "    <tr>\n",
       "      <th>2016-08-24</th>\n",
       "      <td>218.800003</td>\n",
       "      <td>218.910004</td>\n",
       "      <td>217.360001</td>\n",
       "      <td>217.850006</td>\n",
       "      <td>71728900</td>\n",
       "      <td>217.850006</td>\n",
       "    </tr>\n",
       "    <tr>\n",
       "      <th>2016-08-25</th>\n",
       "      <td>217.399994</td>\n",
       "      <td>218.190002</td>\n",
       "      <td>217.220001</td>\n",
       "      <td>217.699997</td>\n",
       "      <td>69224800</td>\n",
       "      <td>217.699997</td>\n",
       "    </tr>\n",
       "    <tr>\n",
       "      <th>2016-08-26</th>\n",
       "      <td>217.919998</td>\n",
       "      <td>219.119995</td>\n",
       "      <td>216.250000</td>\n",
       "      <td>217.289993</td>\n",
       "      <td>122506300</td>\n",
       "      <td>217.289993</td>\n",
       "    </tr>\n",
       "    <tr>\n",
       "      <th>2016-08-29</th>\n",
       "      <td>217.440002</td>\n",
       "      <td>218.669998</td>\n",
       "      <td>217.399994</td>\n",
       "      <td>218.360001</td>\n",
       "      <td>70502200</td>\n",
       "      <td>218.360001</td>\n",
       "    </tr>\n",
       "    <tr>\n",
       "      <th>2016-08-30</th>\n",
       "      <td>218.259995</td>\n",
       "      <td>218.589996</td>\n",
       "      <td>217.350006</td>\n",
       "      <td>218.000000</td>\n",
       "      <td>54747800</td>\n",
       "      <td>218.000000</td>\n",
       "    </tr>\n",
       "  </tbody>\n",
       "</table>\n",
       "</div>"
      ],
      "text/plain": [
       "                     O           H           L           C          V  \\\n",
       "Date                                                                    \n",
       "2016-08-24  218.800003  218.910004  217.360001  217.850006   71728900   \n",
       "2016-08-25  217.399994  218.190002  217.220001  217.699997   69224800   \n",
       "2016-08-26  217.919998  219.119995  216.250000  217.289993  122506300   \n",
       "2016-08-29  217.440002  218.669998  217.399994  218.360001   70502200   \n",
       "2016-08-30  218.259995  218.589996  217.350006  218.000000   54747800   \n",
       "\n",
       "                    AC  \n",
       "Date                    \n",
       "2016-08-24  217.850006  \n",
       "2016-08-25  217.699997  \n",
       "2016-08-26  217.289993  \n",
       "2016-08-29  218.360001  \n",
       "2016-08-30  218.000000  "
      ]
     },
     "execution_count": 10,
     "metadata": {},
     "output_type": "execute_result"
    }
   ],
   "source": [
    "ohlc = pybacktest.load_from_yahoo('SPY')\n",
    "ohlc.tail()"
   ]
  },
  {
   "cell_type": "code",
   "execution_count": 11,
   "metadata": {
    "collapsed": false
   },
   "outputs": [
    {
     "name": "stdout",
     "output_type": "stream",
     "text": [
      ">  Short MA\n",
      "Date\n",
      "2016-08-24    213.8966\n",
      "2016-08-25    214.0956\n",
      "2016-08-26    214.2740\n",
      "2016-08-29    214.5108\n",
      "2016-08-30    214.7138\n",
      "Name: C, dtype: float64\n",
      "\n",
      ">  Long MA\n",
      "Date\n",
      "2016-08-24    205.17860\n",
      "2016-08-25    205.22670\n",
      "2016-08-26    205.27035\n",
      "2016-08-29    205.32345\n",
      "2016-08-30    205.38925\n",
      "Name: C, dtype: float64\n",
      "\n",
      ">  Buy/Cover signals\n",
      "Date\n",
      "2016-08-24    False\n",
      "2016-08-25    False\n",
      "2016-08-26    False\n",
      "2016-08-29    False\n",
      "2016-08-30    False\n",
      "Name: C, dtype: bool\n",
      "\n",
      ">  Short/Sell signals\n",
      "Date\n",
      "2016-08-24    False\n",
      "2016-08-25    False\n",
      "2016-08-26    False\n",
      "2016-08-29    False\n",
      "2016-08-30    False\n",
      "Name: C, dtype: bool\n",
      "\n"
     ]
    },
    {
     "name": "stderr",
     "output_type": "stream",
     "text": [
      "/home/liuenda/.pyenv/versions/anaconda2-4.1.0/lib/python2.7/site-packages/ipykernel/__main__.py:4: FutureWarning: pd.rolling_mean is deprecated for Series and will be removed in a future version, replace with \n",
      "\tSeries.rolling(window=50,center=False).mean()\n",
      "/home/liuenda/.pyenv/versions/anaconda2-4.1.0/lib/python2.7/site-packages/ipykernel/__main__.py:5: FutureWarning: pd.rolling_mean is deprecated for Series and will be removed in a future version, replace with \n",
      "\tSeries.rolling(window=200,center=False).mean()\n"
     ]
    }
   ],
   "source": [
    "short_ma = 50\n",
    "long_ma = 200\n",
    "\n",
    "ms = pandas.rolling_mean(ohlc.C, short_ma)\n",
    "ml = pandas.rolling_mean(ohlc.C, long_ma)\n",
    "    \n",
    "buy = cover = (ms > ml) & (ms.shift() < ml.shift())  # ma cross up\n",
    "sell = short = (ms < ml) & (ms.shift() > ml.shift())  # ma cross down\n",
    "\n",
    "print '>  Short MA\\n%s\\n' % ms.tail()\n",
    "print '>  Long MA\\n%s\\n' % ml.tail()\n",
    "print '>  Buy/Cover signals\\n%s\\n' % buy.tail()\n",
    "print '>  Short/Sell signals\\n%s\\n' % sell.tail()"
   ]
  },
  {
   "cell_type": "code",
   "execution_count": 12,
   "metadata": {
    "collapsed": true
   },
   "outputs": [],
   "source": [
    "bt = pybacktest.Backtest(locals(), 'ma_cross')"
   ]
  },
  {
   "cell_type": "code",
   "execution_count": 13,
   "metadata": {
    "collapsed": false
   },
   "outputs": [
    {
     "name": "stdout",
     "output_type": "stream",
     "text": [
      "['dataobj', 'default_price', 'eqplot', 'equity', 'name', 'ohlc', 'plot_equity', 'plot_trades', 'positions', 'prices', 'report', 'run_time', 'signals', 'sigplot', 'stats', 'summary', 'trade_price', 'trades', 'trdplot']\n",
      "\n",
      ">  bt.signals\n",
      "              Buy  Cover   Sell  Short\n",
      "Date                                  \n",
      "2016-08-24  False  False  False  False\n",
      "2016-08-25  False  False  False  False\n",
      "2016-08-26  False  False  False  False\n",
      "2016-08-29  False  False  False  False\n",
      "2016-08-30  False  False  False  False\n",
      "\n",
      ">  bt.trades\n",
      "            pos       price  vol\n",
      "Date                            \n",
      "2012-02-01  1.0  132.289993  2.0\n",
      "2015-08-31 -1.0  198.110001 -2.0\n",
      "2015-12-18  1.0  202.770004  2.0\n",
      "2016-01-12 -1.0  193.820007 -2.0\n",
      "2016-04-26  1.0  209.039993  2.0\n",
      "\n",
      ">  bt.positions\n",
      "Date\n",
      "2012-01-31    1.0\n",
      "2015-08-28   -1.0\n",
      "2015-12-17    1.0\n",
      "2016-01-11   -1.0\n",
      "2016-04-25    1.0\n",
      "dtype: float64\n",
      "\n",
      ">  bt.equity\n",
      "Date\n",
      "2012-02-01   -13.099991\n",
      "2015-08-31    65.820008\n",
      "2015-12-18    -4.660003\n",
      "2016-01-12    -8.949997\n",
      "2016-04-26   -15.219986\n",
      "dtype: float64\n",
      "\n",
      ">  bt.trade_price\n",
      "Date\n",
      "2016-08-24    218.800003\n",
      "2016-08-25    217.399994\n",
      "2016-08-26    217.919998\n",
      "2016-08-29    217.440002\n",
      "2016-08-30    218.259995\n",
      "Name: O, dtype: float64\n"
     ]
    }
   ],
   "source": [
    "print filter(lambda x: not x.startswith('_'), dir(bt))\n",
    "print '\\n>  bt.signals\\n%s' % bt.signals.tail()\n",
    "print '\\n>  bt.trades\\n%s' % bt.trades.tail()\n",
    "print '\\n>  bt.positions\\n%s' % bt.positions.tail()\n",
    "print '\\n>  bt.equity\\n%s' % bt.equity.tail()\n",
    "print '\\n>  bt.trade_price\\n%s' % bt.trade_price.tail()"
   ]
  },
  {
   "cell_type": "code",
   "execution_count": 14,
   "metadata": {
    "collapsed": false
   },
   "outputs": [
    {
     "name": "stdout",
     "output_type": "stream",
     "text": [
      "----------------------------------------------\n",
      "|  Backtest(ma_cross, 2016-01-09 08:48 JST)  |\n",
      "---------------------------------------------- \n",
      "\n",
      "backtest:\n",
      "  days: 7894\n",
      "  from: '1994-09-15 00:00:00'\n",
      "  to: '2016-04-26 00:00:00'\n",
      "  trades: 21\n",
      "exposure:\n",
      "  trades/month: 1.05\n",
      "performance:\n",
      "  PF: 3.4493\n",
      "  RF: 7.4277\n",
      "  averages:\n",
      "    gain: 27.6343\n",
      "    loss: -8.8128\n",
      "    trade: 10.2785\n",
      "  payoff: 3.1357\n",
      "  profit: 215.8488\n",
      "  winrate: 0.5238\n",
      "risk/return profile:\n",
      "  MPI: 0.9525\n",
      "  UPI: 0.9072\n",
      "  WCDD (monte-carlo 0.99 quantile): 67.8316\n",
      "  maxdd: 29.06\n",
      "  sharpe: 0.4011\n",
      "  sortino: 1.7966\n",
      "\n",
      "----------------------------------------------\n"
     ]
    }
   ],
   "source": [
    "bt.summary()"
   ]
  },
  {
   "cell_type": "code",
   "execution_count": 15,
   "metadata": {
    "collapsed": false
   },
   "outputs": [
    {
     "name": "stderr",
     "output_type": "stream",
     "text": [
      "/home/liuenda/.pyenv/versions/anaconda2-4.1.0/lib/python2.7/site-packages/pybacktest-0.1-py2.7.egg/pybacktest/backtest.py:184: FutureWarning: how in .resample() is deprecated\n",
      "the new syntax is .resample(...).first()\n"
     ]
    },
    {
     "data": {
      "image/png": "[encoded data removed]",
      "text/plain": [
       "<matplotlib.figure.Figure at 0x7f3b57a29f50>"
      ]
     },
     "metadata": {},
     "output_type": "display_data"
    }
   ],
   "source": [
    "bt.plot_equity()"
   ]
  },
  {
   "cell_type": "code",
   "execution_count": null,
   "metadata": {
    "collapsed": true
   },
   "outputs": [],
   "source": []
  },
  {
   "cell_type": "code",
   "execution_count": null,
   "metadata": {
    "collapsed": true
   },
   "outputs": [],
   "source": []
  }
 ],
 "metadata": {
  "kernelspec": {
   "display_name": "k_means",
   "language": "python",
   "name": "ana2"
  },
  "language_info": {
   "codemirror_mode": {
    "name": "ipython",
    "version": 2
   },
   "file_extension": ".py",
   "mimetype": "text/x-python",
   "name": "python",
   "nbconvert_exporter": "python",
   "pygments_lexer": "ipython2",
   "version": "2.7.11"
  }
 },
 "nbformat": 4,
 "nbformat_minor": 0
}
